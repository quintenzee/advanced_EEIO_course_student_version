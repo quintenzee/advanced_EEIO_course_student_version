{
 "cells": [
  {
   "cell_type": "markdown",
   "metadata": {
    "slideshow": {
     "slide_type": "slide"
    }
   },
   "source": [
    "# Practical 5: Introduction to exiobase\n",
    "\n",
    "In this practical, you will learn how to load and work with exiobase\n",
    "\n",
    "You can download exiobase through this link https://zenodo.org/record/5589597\n",
    " \n",
    "We will work with: IOT_2019_pxp.zip\n",
    "\n",
    "The objectives of the practical are:\n",
    "- See the data available within exiobase\n",
    "- Calculate footprints using exiobase\n",
    "- Make a visualization"
   ]
  },
  {
   "cell_type": "markdown",
   "metadata": {
    "slideshow": {
     "slide_type": "subslide"
    }
   },
   "source": [
    "## Exercise 1: Load the data\n",
    "\n",
    "Import the IO exiobase data for the year 2019 in product-by-product format"
   ]
  },
  {
   "cell_type": "code",
   "execution_count": 12,
   "metadata": {
    "slideshow": {
     "slide_type": "fragment"
    }
   },
   "outputs": [],
   "source": [
    "# Import modules\n",
    "import pandas as pd\n",
    "import numpy as np"
   ]
  },
  {
   "cell_type": "markdown",
   "metadata": {
    "slideshow": {
     "slide_type": "subslide"
    }
   },
   "source": [
    "#### 1.1 Import exiobase\n",
    "\n",
    "Beware: exiobase is composed by large datasets so it may take some time to load and process"
   ]
  },
  {
   "cell_type": "code",
   "execution_count": 13,
   "metadata": {
    "slideshow": {
     "slide_type": "fragment"
    }
   },
   "outputs": [],
   "source": [
    "A = pd.read_csv('data/IOT_2019_pxp/A.txt', sep='\\t',\n",
    "                index_col=[0, 1], header=[0, 1])  # A matrix\n",
    "Y = pd.read_csv('data/IOT_2019_pxp/Y.txt', sep='\\t',\n",
    "                index_col=[0, 1], header=[0, 1])  # Y matrix\n",
    "F = pd.read_csv('data/IOT_2019_pxp/impacts/F.txt', sep='\\t',\n",
    "                index_col=[0], header=[0, 1])  # impacts matrix\n",
    "F_hh = pd.read_csv('data/IOT_2019_pxp/impacts/F_Y.txt', sep='\\t',\n",
    "                index_col=[0], header=[0, 1])  # impacts for FD matrix"
   ]
  },
  {
   "cell_type": "markdown",
   "metadata": {
    "slideshow": {
     "slide_type": "subslide"
    }
   },
   "source": [
    "#### 1.2 Look at the available labels in exiobase\n",
    "You may do this by printing the labels of your imported matrices or by opening the following files in your data folder:\n",
    "- finaldemands.txt\n",
    "- products.txt\n",
    "- impacts/unit.txt"
   ]
  },
  {
   "cell_type": "code",
   "execution_count": 14,
   "metadata": {
    "slideshow": {
     "slide_type": "fragment"
    }
   },
   "outputs": [
    {
     "name": "stdout",
     "output_type": "stream",
     "text": [
      "region                                 AT                              \\\n",
      "sector                         Paddy rice     Wheat Cereal grains nec   \n",
      "region sector                                                           \n",
      "AT     Paddy rice                       0  0.000000          0.000000   \n",
      "       Wheat                            0  0.033135          0.000000   \n",
      "       Cereal grains nec                0  0.000000          0.014346   \n",
      "       Vegetables, fruit, nuts          0  0.000000          0.000000   \n",
      "       Oil seeds                        0  0.000000          0.000000   \n",
      "\n",
      "region                                                            \\\n",
      "sector                         Vegetables, fruit, nuts Oil seeds   \n",
      "region sector                                                      \n",
      "AT     Paddy rice                              0.00000   0.00000   \n",
      "       Wheat                                   0.00000   0.00000   \n",
      "       Cereal grains nec                       0.00000   0.00000   \n",
      "       Vegetables, fruit, nuts                 0.06819   0.00000   \n",
      "       Oil seeds                               0.00000   0.00303   \n",
      "\n",
      "region                                                                    \\\n",
      "sector                         Sugar cane, sugar beet Plant-based fibers   \n",
      "region sector                                                              \n",
      "AT     Paddy rice                                 0.0                0.0   \n",
      "       Wheat                                      0.0                0.0   \n",
      "       Cereal grains nec                          0.0                0.0   \n",
      "       Vegetables, fruit, nuts                    0.0                0.0   \n",
      "       Oil seeds                                  0.0                0.0   \n",
      "\n",
      "region                                                        ...  \\\n",
      "sector                         Crops nec    Cattle      Pigs  ...   \n",
      "region sector                                                 ...   \n",
      "AT     Paddy rice               0.000000  0.000000  0.000000  ...   \n",
      "       Wheat                    0.002680  0.005436  0.004164  ...   \n",
      "       Cereal grains nec        0.001851  0.037355  0.031013  ...   \n",
      "       Vegetables, fruit, nuts  0.000000  0.000196  0.000595  ...   \n",
      "       Oil seeds                0.000000  0.000000  0.000000  ...   \n",
      "\n",
      "region                                                    WM  \\\n",
      "sector                         Paper for treatment: landfill   \n",
      "region sector                                                  \n",
      "AT     Paddy rice                               0.000000e+00   \n",
      "       Wheat                                    9.375602e-08   \n",
      "       Cereal grains nec                        3.517996e-07   \n",
      "       Vegetables, fruit, nuts                  1.189035e-06   \n",
      "       Oil seeds                                1.175002e-08   \n",
      "\n",
      "region                                                                \\\n",
      "sector                         Plastic waste for treatment: landfill   \n",
      "region sector                                                          \n",
      "AT     Paddy rice                                       0.000000e+00   \n",
      "       Wheat                                            1.123255e-07   \n",
      "       Cereal grains nec                                4.176127e-07   \n",
      "       Vegetables, fruit, nuts                          1.251625e-06   \n",
      "       Oil seeds                                        1.024470e-08   \n",
      "\n",
      "region                                                                              \\\n",
      "sector                         Inert/metal/hazardous waste for treatment: landfill   \n",
      "region sector                                                                        \n",
      "AT     Paddy rice                                                    0.000000e+00    \n",
      "       Wheat                                                         8.695637e-08    \n",
      "       Cereal grains nec                                             3.250725e-07    \n",
      "       Vegetables, fruit, nuts                                       1.119481e-06    \n",
      "       Oil seeds                                                     1.116600e-08    \n",
      "\n",
      "region                                                                 \\\n",
      "sector                         Textiles waste for treatment: landfill   \n",
      "region sector                                                           \n",
      "AT     Paddy rice                                        0.000000e+00   \n",
      "       Wheat                                             7.292530e-08   \n",
      "       Cereal grains nec                                 2.618805e-07   \n",
      "       Vegetables, fruit, nuts                           3.984085e-07   \n",
      "       Oil seeds                                         1.005989e-09   \n",
      "\n",
      "region                                                             \\\n",
      "sector                         Wood waste for treatment: landfill   \n",
      "region sector                                                       \n",
      "AT     Paddy rice                                    0.000000e+00   \n",
      "       Wheat                                         8.007790e-08   \n",
      "       Cereal grains nec                             2.868333e-07   \n",
      "       Vegetables, fruit, nuts                       6.432317e-07   \n",
      "       Oil seeds                                     1.889698e-09   \n",
      "\n",
      "region                                                                       \\\n",
      "sector                         Membership organisation services n.e.c. (91)   \n",
      "region sector                                                                 \n",
      "AT     Paddy rice                                              0.000000e+00   \n",
      "       Wheat                                                   8.785921e-09   \n",
      "       Cereal grains nec                                       2.041079e-07   \n",
      "       Vegetables, fruit, nuts                                 9.960729e-08   \n",
      "       Oil seeds                                               1.119266e-09   \n",
      "\n",
      "region                                                                            \\\n",
      "sector                         Recreational, cultural and sporting services (92)   \n",
      "region sector                                                                      \n",
      "AT     Paddy rice                                                   0.000000e+00   \n",
      "       Wheat                                                        1.992355e-08   \n",
      "       Cereal grains nec                                            3.075455e-08   \n",
      "       Vegetables, fruit, nuts                                      4.414958e-07   \n",
      "       Oil seeds                                                    5.552398e-09   \n",
      "\n",
      "region                                              \\\n",
      "sector                         Other services (93)   \n",
      "region sector                                        \n",
      "AT     Paddy rice                     0.000000e+00   \n",
      "       Wheat                          3.363119e-08   \n",
      "       Cereal grains nec              1.600788e-07   \n",
      "       Vegetables, fruit, nuts        8.035116e-07   \n",
      "       Oil seeds                      1.066553e-08   \n",
      "\n",
      "region                                                                        \\\n",
      "sector                         Private households with employed persons (95)   \n",
      "region sector                                                                  \n",
      "AT     Paddy rice                                               0.000000e+00   \n",
      "       Wheat                                                    1.612664e-08   \n",
      "       Cereal grains nec                                        5.615232e-08   \n",
      "       Vegetables, fruit, nuts                                  8.956399e-08   \n",
      "       Oil seeds                                                1.242371e-09   \n",
      "\n",
      "region                                                                     \n",
      "sector                         Extra-territorial organizations and bodies  \n",
      "region sector                                                              \n",
      "AT     Paddy rice                                                       0  \n",
      "       Wheat                                                            0  \n",
      "       Cereal grains nec                                                0  \n",
      "       Vegetables, fruit, nuts                                          0  \n",
      "       Oil seeds                                                        0  \n",
      "\n",
      "[5 rows x 9800 columns]\n"
     ]
    }
   ],
   "source": [
    "units = None\n",
    "units\n",
    "\n",
    "# print the labels of the imported files to check if the import was successful\n",
    "print(A.head())"
   ]
  },
  {
   "cell_type": "markdown",
   "metadata": {
    "slideshow": {
     "slide_type": "subslide"
    }
   },
   "source": [
    "Since we don't have a file showing all individual regions. \n",
    "Here is a code example of how you can get a list of all the regions within exiobase"
   ]
  },
  {
   "cell_type": "code",
   "execution_count": 15,
   "metadata": {
    "slideshow": {
     "slide_type": "fragment"
    }
   },
   "outputs": [
    {
     "data": {
      "text/plain": [
       "MultiIndex([('AT',                                          'Paddy rice'),\n",
       "            ('AT',                                               'Wheat'),\n",
       "            ('AT',                                   'Cereal grains nec'),\n",
       "            ('AT',                             'Vegetables, fruit, nuts'),\n",
       "            ('AT',                                           'Oil seeds'),\n",
       "            ('AT',                              'Sugar cane, sugar beet'),\n",
       "            ('AT',                                  'Plant-based fibers'),\n",
       "            ('AT',                                           'Crops nec'),\n",
       "            ('AT',                                              'Cattle'),\n",
       "            ('AT',                                                'Pigs'),\n",
       "            ...\n",
       "            ('WM',                       'Paper for treatment: landfill'),\n",
       "            ('WM',               'Plastic waste for treatment: landfill'),\n",
       "            ('WM', 'Inert/metal/hazardous waste for treatment: landfill'),\n",
       "            ('WM',              'Textiles waste for treatment: landfill'),\n",
       "            ('WM',                  'Wood waste for treatment: landfill'),\n",
       "            ('WM',        'Membership organisation services n.e.c. (91)'),\n",
       "            ('WM',   'Recreational, cultural and sporting services (92)'),\n",
       "            ('WM',                                 'Other services (93)'),\n",
       "            ('WM',       'Private households with employed persons (95)'),\n",
       "            ('WM',          'Extra-territorial organizations and bodies')],\n",
       "           names=['region', 'sector'], length=9800)"
      ]
     },
     "execution_count": 15,
     "metadata": {},
     "output_type": "execute_result"
    }
   ],
   "source": [
    "# First we collect all labels from A\n",
    "A_labels = A.index\n",
    "A_labels"
   ]
  },
  {
   "cell_type": "code",
   "execution_count": 16,
   "metadata": {
    "slideshow": {
     "slide_type": "subslide"
    }
   },
   "outputs": [
    {
     "data": {
      "text/html": [
       "<div>\n",
       "<style scoped>\n",
       "    .dataframe tbody tr th:only-of-type {\n",
       "        vertical-align: middle;\n",
       "    }\n",
       "\n",
       "    .dataframe tbody tr th {\n",
       "        vertical-align: top;\n",
       "    }\n",
       "\n",
       "    .dataframe thead th {\n",
       "        text-align: right;\n",
       "    }\n",
       "</style>\n",
       "<table border=\"1\" class=\"dataframe\">\n",
       "  <thead>\n",
       "    <tr style=\"text-align: right;\">\n",
       "      <th></th>\n",
       "      <th></th>\n",
       "      <th>region</th>\n",
       "      <th>sector</th>\n",
       "    </tr>\n",
       "    <tr>\n",
       "      <th>region</th>\n",
       "      <th>sector</th>\n",
       "      <th></th>\n",
       "      <th></th>\n",
       "    </tr>\n",
       "  </thead>\n",
       "  <tbody>\n",
       "    <tr>\n",
       "      <th rowspan=\"5\" valign=\"top\">AT</th>\n",
       "      <th>Paddy rice</th>\n",
       "      <td>AT</td>\n",
       "      <td>Paddy rice</td>\n",
       "    </tr>\n",
       "    <tr>\n",
       "      <th>Wheat</th>\n",
       "      <td>AT</td>\n",
       "      <td>Wheat</td>\n",
       "    </tr>\n",
       "    <tr>\n",
       "      <th>Cereal grains nec</th>\n",
       "      <td>AT</td>\n",
       "      <td>Cereal grains nec</td>\n",
       "    </tr>\n",
       "    <tr>\n",
       "      <th>Vegetables, fruit, nuts</th>\n",
       "      <td>AT</td>\n",
       "      <td>Vegetables, fruit, nuts</td>\n",
       "    </tr>\n",
       "    <tr>\n",
       "      <th>Oil seeds</th>\n",
       "      <td>AT</td>\n",
       "      <td>Oil seeds</td>\n",
       "    </tr>\n",
       "    <tr>\n",
       "      <th>...</th>\n",
       "      <th>...</th>\n",
       "      <td>...</td>\n",
       "      <td>...</td>\n",
       "    </tr>\n",
       "    <tr>\n",
       "      <th rowspan=\"5\" valign=\"top\">WM</th>\n",
       "      <th>Membership organisation services n.e.c. (91)</th>\n",
       "      <td>WM</td>\n",
       "      <td>Membership organisation services n.e.c. (91)</td>\n",
       "    </tr>\n",
       "    <tr>\n",
       "      <th>Recreational, cultural and sporting services (92)</th>\n",
       "      <td>WM</td>\n",
       "      <td>Recreational, cultural and sporting services (92)</td>\n",
       "    </tr>\n",
       "    <tr>\n",
       "      <th>Other services (93)</th>\n",
       "      <td>WM</td>\n",
       "      <td>Other services (93)</td>\n",
       "    </tr>\n",
       "    <tr>\n",
       "      <th>Private households with employed persons (95)</th>\n",
       "      <td>WM</td>\n",
       "      <td>Private households with employed persons (95)</td>\n",
       "    </tr>\n",
       "    <tr>\n",
       "      <th>Extra-territorial organizations and bodies</th>\n",
       "      <td>WM</td>\n",
       "      <td>Extra-territorial organizations and bodies</td>\n",
       "    </tr>\n",
       "  </tbody>\n",
       "</table>\n",
       "<p>9800 rows × 2 columns</p>\n",
       "</div>"
      ],
      "text/plain": [
       "                                                         region  \\\n",
       "region sector                                                     \n",
       "AT     Paddy rice                                            AT   \n",
       "       Wheat                                                 AT   \n",
       "       Cereal grains nec                                     AT   \n",
       "       Vegetables, fruit, nuts                               AT   \n",
       "       Oil seeds                                             AT   \n",
       "...                                                         ...   \n",
       "WM     Membership organisation services n.e.c. (91)          WM   \n",
       "       Recreational, cultural and sporting services (92)     WM   \n",
       "       Other services (93)                                   WM   \n",
       "       Private households with employed persons (95)         WM   \n",
       "       Extra-territorial organizations and bodies            WM   \n",
       "\n",
       "                                                                                                     sector  \n",
       "region sector                                                                                                \n",
       "AT     Paddy rice                                                                                Paddy rice  \n",
       "       Wheat                                                                                          Wheat  \n",
       "       Cereal grains nec                                                                  Cereal grains nec  \n",
       "       Vegetables, fruit, nuts                                                      Vegetables, fruit, nuts  \n",
       "       Oil seeds                                                                                  Oil seeds  \n",
       "...                                                                                                     ...  \n",
       "WM     Membership organisation services n.e.c. (91)            Membership organisation services n.e.c. (91)  \n",
       "       Recreational, cultural and sporting services (92)  Recreational, cultural and sporting services (92)  \n",
       "       Other services (93)                                                              Other services (93)  \n",
       "       Private households with employed persons (95)          Private households with employed persons (95)  \n",
       "       Extra-territorial organizations and bodies                Extra-territorial organizations and bodies  \n",
       "\n",
       "[9800 rows x 2 columns]"
      ]
     },
     "execution_count": 16,
     "metadata": {},
     "output_type": "execute_result"
    }
   ],
   "source": [
    "# .to_frame to turn the collected labels into a dataframe\n",
    "A_labels = A_labels.to_frame() \n",
    "A_labels"
   ]
  },
  {
   "cell_type": "markdown",
   "metadata": {
    "slideshow": {
     "slide_type": "subslide"
    }
   },
   "source": [
    "A_labels is composed by two columns \"region\" and \"sector\"\n",
    "by doing \n",
    "\n",
    "> A_labels.region \n",
    "\n",
    "or \n",
    "\n",
    "> A_labels.sector \n",
    "\n",
    "you can access the specific columns \n",
    "\n",
    "N.b.\n",
    "it is the equivalent of doing \n",
    "\n",
    "> A_labels.loc[:, \"region\"]"
   ]
  },
  {
   "cell_type": "markdown",
   "metadata": {
    "slideshow": {
     "slide_type": "slide"
    }
   },
   "source": [
    "How do we know how many regions, sectors or categories do we have available?"
   ]
  },
  {
   "cell_type": "code",
   "execution_count": 20,
   "metadata": {
    "slideshow": {
     "slide_type": "fragment"
    }
   },
   "outputs": [
    {
     "data": {
      "text/plain": [
       "0     AT\n",
       "1     BE\n",
       "2     BG\n",
       "3     CY\n",
       "4     CZ\n",
       "5     DE\n",
       "6     DK\n",
       "7     EE\n",
       "8     ES\n",
       "9     FI\n",
       "10    FR\n",
       "11    GR\n",
       "12    HR\n",
       "13    HU\n",
       "14    IE\n",
       "15    IT\n",
       "16    LT\n",
       "17    LU\n",
       "18    LV\n",
       "19    MT\n",
       "20    NL\n",
       "21    PL\n",
       "22    PT\n",
       "23    RO\n",
       "24    SE\n",
       "25    SI\n",
       "26    SK\n",
       "27    GB\n",
       "28    US\n",
       "29    JP\n",
       "30    CN\n",
       "31    CA\n",
       "32    KR\n",
       "33    BR\n",
       "34    IN\n",
       "35    MX\n",
       "36    RU\n",
       "37    AU\n",
       "38    CH\n",
       "39    TR\n",
       "40    TW\n",
       "41    NO\n",
       "42    ID\n",
       "43    ZA\n",
       "44    WA\n",
       "45    WL\n",
       "46    WE\n",
       "47    WF\n",
       "48    WM\n",
       "Name: region, dtype: object"
      ]
     },
     "execution_count": 20,
     "metadata": {},
     "output_type": "execute_result"
    }
   ],
   "source": [
    "# Then we extract region column and eliminate any duplicate labels\n",
    "# We do this because the labels are replicated for each sectoral category in each region\n",
    "regions_labels = A_labels.region.drop_duplicates().reset_index(drop=True)\n",
    "\n",
    "# We print the regional labels so that we can see the regions we have to work with\n",
    "regions_labels"
   ]
  },
  {
   "cell_type": "code",
   "execution_count": 17,
   "metadata": {
    "slideshow": {
     "slide_type": "subslide"
    }
   },
   "outputs": [
    {
     "ename": "TypeError",
     "evalue": "Value after * must be an iterable, not NoneType",
     "output_type": "error",
     "traceback": [
      "\u001b[0;31m---------------------------------------------------------------------------\u001b[0m",
      "\u001b[0;31mTypeError\u001b[0m                                 Traceback (most recent call last)",
      "Cell \u001b[0;32mIn[17], line 7\u001b[0m\n\u001b[1;32m      4\u001b[0m \u001b[38;5;66;03m# Print your labels to analyse them (remember .to_frame)\u001b[39;00m\n\u001b[1;32m      5\u001b[0m sectors_labels\n\u001b[0;32m----> 7\u001b[0m \u001b[38;5;28mprint\u001b[39m(\u001b[38;5;241m*\u001b[39msectors_labels, \u001b[38;5;124m\"\u001b[39m\u001b[38;5;130;01m\\n\u001b[39;00m\u001b[38;5;124m\"\u001b[39m)\n",
      "\u001b[0;31mTypeError\u001b[0m: Value after * must be an iterable, not NoneType"
     ]
    }
   ],
   "source": [
    "#Collect the sectors labels and get the u\n",
    "sectors_labels = A_labels.sector.drop_duplicates()\n",
    "\n",
    "# Print your labels to analyse them (remember .to_frame)\n",
    "sectors_labels\n",
    "\n",
    "# print(*sectors_labels, \"\\n\")"
   ]
  },
  {
   "cell_type": "markdown",
   "metadata": {
    "slideshow": {
     "slide_type": "slide"
    }
   },
   "source": [
    "## Exercise 2: Calculate the rest of the IO variables (I, L, x)"
   ]
  },
  {
   "cell_type": "markdown",
   "metadata": {
    "slideshow": {
     "slide_type": "subslide"
    }
   },
   "source": [
    "#### 2.1 First we calculate the Leontief inverse"
   ]
  },
  {
   "cell_type": "code",
   "execution_count": null,
   "metadata": {
    "slideshow": {
     "slide_type": "fragment"
    }
   },
   "outputs": [],
   "source": [
    "I = None # A.shape[0] is the total number of columns in the A matrix\n",
    "L = None"
   ]
  },
  {
   "cell_type": "markdown",
   "metadata": {
    "slideshow": {
     "slide_type": "subslide"
    }
   },
   "source": [
    "#### 2.2 We calculate our product output x"
   ]
  },
  {
   "cell_type": "code",
   "execution_count": null,
   "metadata": {
    "slideshow": {
     "slide_type": "fragment"
    }
   },
   "outputs": [],
   "source": [
    "x = None\n",
    "\n",
    "# A check to see whether the resulting x is right\n",
    "print(x.shape)\n",
    "print(x)"
   ]
  },
  {
   "cell_type": "markdown",
   "metadata": {
    "slideshow": {
     "slide_type": "slide"
    }
   },
   "source": [
    "## Exercise 3: Create a matrix of extension intensities \n",
    "\n",
    "When working with real data, you will find cases in which the produt output vector x contains 0's \n",
    "\n",
    "If you try to invert the diagonalized product output, it will tell you that you cannot invert a Singular matrix.\n",
    "\n",
    "There are various reasons why a matrix may be singular but in our case it is due to the fact that not all values are non-zeros\n",
    "\n",
    "You may then be tempted to perform 1/x, however, this may results in several divisions by 0's and the resulting matrix will be filled with NaN values or inf values.\n",
    "\n",
    "One way to get around this: Divide 1 by the values that are non-0 as shown in the following example"
   ]
  },
  {
   "cell_type": "code",
   "execution_count": null,
   "metadata": {
    "scrolled": true,
    "slideshow": {
     "slide_type": "subslide"
    }
   },
   "outputs": [],
   "source": [
    "# we make a copy of our product output vector which we will call x_inv\n",
    "x_inv = None\n",
    "\n",
    "# we divide 1 by the values that are non-0\n",
    "x_inv[x_inv!=0] = 1/x_inv[x_inv!=0]"
   ]
  },
  {
   "cell_type": "markdown",
   "metadata": {
    "slideshow": {
     "slide_type": "subslide"
    }
   },
   "source": [
    "We calculate our intensities (i.e., extension coefficients)"
   ]
  },
  {
   "cell_type": "code",
   "execution_count": null,
   "metadata": {
    "slideshow": {
     "slide_type": "fragment"
    }
   },
   "outputs": [],
   "source": [
    "# We are essentially dividing the total extension by the product output\n",
    "# This gives us coefficients of extension by unit of output (e.g., kg/euro)\n",
    "f = None\n",
    "\n",
    "f"
   ]
  },
  {
   "cell_type": "markdown",
   "metadata": {
    "slideshow": {
     "slide_type": "fragment"
    }
   },
   "source": [
    "N.b. inverting a matrix is a more complex operation than just dividing 1 by the values in your matrix. \n",
    "\n",
    "However, in the case of a diagonalized vector with non-zero values along the diagonal 1/diag(x) and inv(diag(x)) output the same results. \n",
    "\n",
    "If you have zero's in x vector to be diagonalized then you will not be able to perform the inversion.    "
   ]
  },
  {
   "cell_type": "markdown",
   "metadata": {
    "slideshow": {
     "slide_type": "slide"
    }
   },
   "source": [
    "## Exercise 4: Total footprint of the Netherlands\n",
    "\n",
    "\n",
    "- *What is the total carbon footprint of the Netherlands?*\n",
    "\n",
    "\n",
    "$\\text{F} = \\text{f} \\mathbf{L}\\text{Y} + \\text{F}_{hh}$"
   ]
  },
  {
   "cell_type": "markdown",
   "metadata": {
    "slideshow": {
     "slide_type": "slide"
    }
   },
   "source": [
    "#### 4.1 We first create a (modified) final demand matrix"
   ]
  },
  {
   "cell_type": "markdown",
   "metadata": {
    "slideshow": {
     "slide_type": "subslide"
    }
   },
   "source": [
    "4.1.1 Lets identify the range of the Y columns concerning the Netherlands"
   ]
  },
  {
   "cell_type": "code",
   "execution_count": null,
   "metadata": {
    "slideshow": {
     "slide_type": "fragment"
    }
   },
   "outputs": [],
   "source": [
    "# we know NL is the 20th country (python counting starting from 0) in the list of countries \n",
    "# and that we have 7 final demand categories, therefore\n",
    "\n",
    "start_NL = None\n",
    "end_NL = None"
   ]
  },
  {
   "cell_type": "markdown",
   "metadata": {
    "slideshow": {
     "slide_type": "subslide"
    }
   },
   "source": [
    "4.1.2 We calculate the modified Y"
   ]
  },
  {
   "cell_type": "markdown",
   "metadata": {
    "slideshow": {
     "slide_type": "subslide"
    }
   },
   "source": [
    "You can slice your Y by using pandas iloc method \n",
    "\n",
    "> Y.iloc[:,start_NL:end_NL]"
   ]
  },
  {
   "cell_type": "code",
   "execution_count": null,
   "metadata": {
    "slideshow": {
     "slide_type": "fragment"
    }
   },
   "outputs": [],
   "source": [
    "Y_mod = None\n",
    "Y_mod"
   ]
  },
  {
   "cell_type": "markdown",
   "metadata": {
    "slideshow": {
     "slide_type": "subslide"
    }
   },
   "source": [
    "Or by using the labels through pandas loc method\n",
    "\n",
    "> Y.loc[:, \"NL\"]"
   ]
  },
  {
   "cell_type": "code",
   "execution_count": null,
   "metadata": {
    "slideshow": {
     "slide_type": "fragment"
    }
   },
   "outputs": [],
   "source": [
    "Y_mod = None\n",
    "Y_mod"
   ]
  },
  {
   "cell_type": "markdown",
   "metadata": {
    "slideshow": {
     "slide_type": "subslide"
    }
   },
   "source": [
    "#### 5.1 We isolate the extension in which we are interested"
   ]
  },
  {
   "cell_type": "markdown",
   "metadata": {
    "slideshow": {
     "slide_type": "fragment"
    }
   },
   "source": [
    "For this exercise we only focus on the carbon fooprint\n",
    "\n",
    "*\"GHG emissions (GWP100) | Problem oriented approach: baseline (CML, 2001) | GWP100 (IPCC, 2007)\"* in kg"
   ]
  },
  {
   "cell_type": "code",
   "execution_count": null,
   "metadata": {
    "slideshow": {
     "slide_type": "fragment"
    }
   },
   "outputs": [],
   "source": [
    "indicator = \"\""
   ]
  },
  {
   "cell_type": "code",
   "execution_count": null,
   "metadata": {
    "slideshow": {
     "slide_type": "fragment"
    }
   },
   "outputs": [],
   "source": [
    "# the intensity vector in which we are interested\n",
    "f_ =  None\n",
    "\n",
    "f_"
   ]
  },
  {
   "cell_type": "code",
   "execution_count": null,
   "metadata": {
    "slideshow": {
     "slide_type": "fragment"
    }
   },
   "outputs": [],
   "source": [
    "# the final demand CO2 emissions\n",
    "\n",
    "e_hh_ = None"
   ]
  },
  {
   "cell_type": "markdown",
   "metadata": {
    "slideshow": {
     "slide_type": "subslide"
    }
   },
   "source": [
    "#### 5.2 We calculate the total footprint of the region"
   ]
  },
  {
   "cell_type": "code",
   "execution_count": null,
   "metadata": {
    "slideshow": {
     "slide_type": "fragment"
    }
   },
   "outputs": [],
   "source": [
    "# Calculate the total global footprint\n",
    "e_total_reg = None\n",
    "e_total_reg"
   ]
  },
  {
   "cell_type": "markdown",
   "metadata": {
    "slideshow": {
     "slide_type": "slide"
    }
   },
   "source": [
    "## Exercise 5: Which regions emit the most CO2 as a result of final consumption in the Netherlands?"
   ]
  },
  {
   "cell_type": "markdown",
   "metadata": {
    "slideshow": {
     "slide_type": "subslide"
    }
   },
   "source": [
    "#### 5.3 Let's analyse in which regions CO2 is emitted the most as a result of NL consumption"
   ]
  },
  {
   "cell_type": "code",
   "execution_count": null,
   "metadata": {
    "slideshow": {
     "slide_type": "fragment"
    }
   },
   "outputs": [],
   "source": [
    "# In this case we diagonalize the emission intensity vector \n",
    "e_breakdown = None"
   ]
  },
  {
   "cell_type": "code",
   "execution_count": null,
   "metadata": {
    "slideshow": {
     "slide_type": "fragment"
    }
   },
   "outputs": [],
   "source": [
    "# we apply the sectoral labels\n",
    "e_breakdown.index = None\n",
    "\n",
    "e_breakdown"
   ]
  },
  {
   "cell_type": "code",
   "execution_count": null,
   "metadata": {
    "slideshow": {
     "slide_type": "subslide"
    }
   },
   "outputs": [],
   "source": [
    "# Right now, we are only interested in the impacts of regions, so so we sum across axis 1\n",
    "e_prod_reg = None"
   ]
  },
  {
   "cell_type": "code",
   "execution_count": null,
   "metadata": {
    "slideshow": {
     "slide_type": "fragment"
    }
   },
   "outputs": [],
   "source": [
    "# and then we sum the results by regions by using the groupby methods\n",
    "e_regional_breakdown = None"
   ]
  },
  {
   "cell_type": "code",
   "execution_count": null,
   "metadata": {
    "slideshow": {
     "slide_type": "subslide"
    }
   },
   "outputs": [],
   "source": [
    "# We sort the results from largest to smallest to see the most impacting regions\n",
    "e_rb_sorted = None\n",
    "\n",
    "e_rb_sorted"
   ]
  },
  {
   "cell_type": "markdown",
   "metadata": {
    "slideshow": {
     "slide_type": "slide"
    }
   },
   "source": [
    "## Exercise 6: Let's plot the results for the top 15 emitters \n",
    "\n",
    "Using pandas you can make simple visualizations directly from dataframes and series\n",
    "\n",
    "see more here: https://pandas.pydata.org/pandas-docs/stable/reference/api/pandas.DataFrame.plot.html"
   ]
  },
  {
   "cell_type": "markdown",
   "metadata": {
    "slideshow": {
     "slide_type": "subslide"
    }
   },
   "source": [
    "#### 6.1 Totals of the top 15 emitters"
   ]
  },
  {
   "cell_type": "code",
   "execution_count": null,
   "metadata": {
    "slideshow": {
     "slide_type": "fragment"
    }
   },
   "outputs": [],
   "source": [
    "# plot your results with plot.bar()\n",
    "top_15_results = None\n",
    "\n",
    "top_15_plot = None\n",
    "\n",
    "# applying bar labels\n",
    "top_15_plot = None"
   ]
  },
  {
   "cell_type": "markdown",
   "metadata": {
    "slideshow": {
     "slide_type": "subslide"
    }
   },
   "source": [
    "#### 6.2 Let's normalize results by the total footprint of NL consumption"
   ]
  },
  {
   "cell_type": "code",
   "execution_count": null,
   "metadata": {
    "slideshow": {
     "slide_type": "fragment"
    }
   },
   "outputs": [],
   "source": [
    "# Normalize your results\n",
    "e_rb_sorted_norm = None"
   ]
  },
  {
   "cell_type": "code",
   "execution_count": null,
   "metadata": {
    "slideshow": {
     "slide_type": "slide"
    }
   },
   "outputs": [],
   "source": [
    "# Plot top 15 regions\n",
    "top_15_norm_plot = None\n",
    "\n",
    "# applying bar labels\n",
    "top_15_norm_plot = None"
   ]
  }
 ],
 "metadata": {
  "celltoolbar": "Slideshow",
  "kernelspec": {
   "display_name": "Python 3 (ipykernel)",
   "language": "python",
   "name": "python3"
  },
  "language_info": {
   "codemirror_mode": {
    "name": "ipython",
    "version": 3
   },
   "file_extension": ".py",
   "mimetype": "text/x-python",
   "name": "python",
   "nbconvert_exporter": "python",
   "pygments_lexer": "ipython3",
   "version": "3.10.12"
  },
  "vscode": {
   "interpreter": {
    "hash": "a0de1fb450ee5e26d734f0aa5b4c4b29e20575809e5e66472467df7627fd957d"
   }
  }
 },
 "nbformat": 4,
 "nbformat_minor": 2
}
